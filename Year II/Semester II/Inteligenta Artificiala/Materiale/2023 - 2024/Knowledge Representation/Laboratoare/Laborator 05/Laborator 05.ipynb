{
  "nbformat": 4,
  "nbformat_minor": 0,
  "metadata": {
    "colab": {
      "provenance": []
    },
    "kernelspec": {
      "name": "python3",
      "display_name": "Python 3"
    },
    "language_info": {
      "name": "python"
    }
  },
  "cells": [
    {
      "cell_type": "markdown",
      "source": [
        "# 1. Alpha-Beta"
      ],
      "metadata": {
        "id": "6U00KE3pLl_e"
      }
    },
    {
      "cell_type": "markdown",
      "source": [
        "Implementați algoritmul Alpha-Beta pe problema de data trecută."
      ],
      "metadata": {
        "id": "rMo8_mAlLn2v"
      }
    },
    {
      "cell_type": "code",
      "source": [],
      "metadata": {
        "id": "ZjjlbcWTB27R"
      },
      "execution_count": null,
      "outputs": []
    },
    {
      "cell_type": "markdown",
      "source": [
        "# Euristici (probleme A*)"
      ],
      "metadata": {
        "id": "Dn2bYMklLinT"
      }
    },
    {
      "cell_type": "markdown",
      "source": [
        "## 2. Problema blocuri"
      ],
      "metadata": {
        "id": "JMFHkh6gGJcQ"
      }
    },
    {
      "cell_type": "markdown",
      "source": [
        "Avem un număr N de blocuri(cuburi) dispuse pe S stive. Stivele pot fi goale sau pot avea o parte din cuburi puse unul peste altul.\n",
        "\n",
        "Se dă o stare initială, cu blocurile așezate, într-o anumită configurație, de exemplu:"
      ],
      "metadata": {
        "id": "mbf0M5S-oWfU"
      }
    },
    {
      "cell_type": "markdown",
      "source": [
        "![image.png](data:image/png;base64,iVBORw0KGgoAAAANSUhEUgAAAV4AAADcCAIAAAC3Rl4qAAAHcklEQVR4nO3df6zVdR3H8c9p2GG7bIBNaUI/7q3kboAW3D8EkxKIajHwRtYcP5KSBdXKwRiVM3Xzj2DT1g+XVIJLEVnigEuUpncQKNaIwi4xI0EGEWBwc93L7qnW6Y8bTeDttHUvn3Pu9/H4i92Nndf93HOf57Nz/zilarWaAM71ptwDgFokDUBAGoCANAABaQAC0gAEpAEISAMQkAYgIA1AQBqAgDQAAWkAAtIABKQBCEgDEJAGICANQEAagIA0AAFpAALSAASkAQhIAxCQBiAgDUBAGoCANAABaQAC0gAEpAEISAMQkAYgIA1AYFDuAbxRpVIp94S+Ua1Wc0/g9bk1AAG3hjpT1y+5A+biUwRuDUBAGoCANAABaQAC0gAEpAEISAMQkAYgIA1AQBqAgDQAAWkAAtIABKQBCEgDEJAGICANQEAagIA0AAFpAALSUGzdL+1as3Rq05D5m3IvocZIQ6EdeuHP6dQv2w915x5CzZGGQmscP3HiR2denXsGNUgagIA0AAFpoFflwIbFLcMGl0pDmlpX7jyRew65SQMppXRyw62LNjZ+8Yf3Lrlu2LGNy68b96X2Su5NZFWq689QLJTeD4zs+5/XvpXvHbv8rauP/2zBiJRSSt0//3zj9O+9PPOh05vmDu/bh+qvb4F+4NZASildfumIs/9s+NCiW8ek9MS2XTkHkZs0cIGrxoxPqfL3f+TeQU7SwAWOHD+aUsv7mnPvICdp4Hwntm99tnz9LbNG5x5CTtJASik9vnLZlo7OSqoc3X7bjFt2fXL9us815d5EVtJQeGO+vGXbd1v/tW5uy6WDS28Z/5XTy3576EezRrz+f2RA88fLujEA/vI3AL6F4nBrAALSAASkAQhIAxCQBiAgDUBAGoCANAABaQAC0gAEpAEISAMQkAYgIA1AQBqAgDQAAWkAAtIABKQBCEgDEJAGICANQEAagIA0AIFBuQe8Ib0fbVLv+uSjWQbGUfw/BsYJ1P7n9Lg1AIH6uDX0qv3QvpaB8UJXUzwZ+ptbAxCop1sDqZ5fLVP9vGCS3BqAkDQAAWkAAtIABKQBCEgDEJAGICANQEAagIA0AAFpAALSAASkAQhIAxCQBiAgDUBAGoCANAABaQAC0gAXqHR2bFk576oh8zflXpKPNMD5Xti1dfdPH3n4d925h+QkDXC+0R+cc/PsycNzz8hLGiAyYtTbc0/ISxqAQMHTcGLnytYrhw0ulUqlwcOubF31fCX3ojwqR7efPYghl09cvOFAIc/hxM775rX0HkJT66o9/8y9J69Cp+HgqpumLT80p/1UtdpzZO3Mv25cNP9b+3KPuvgqz39zSvONz818/NAr1Z4j35n4m/s/ce2y9qLFoXPr4gnT7ur+wnOnqtWu3beXHl1fwKfCqxU6DZ1/OZ4um3r9+IaUyqNmz/5ISns7/ph71EV3ZO2yr/56+rcfWDB2eDmVR037+LSGdOZk55ncuy6qSvsdN99/5jNr1y1obkipoXnBuh/MK+celVeh0zDhtt/3nLxncvdLu9Ysndo056Hce7Lo3L7pyUrzNePOvh//tk9v6ap2PTq7WO/PP/3I919O06dO/m8Oyu8e25xzUH6FTkNK3Xvua20a+f7lHWPvbl89L/eaLI4dO5x7Qn77OnZXUnrzoIJfFM5R5DRU2peOnnR7+RsdL/7ingUT31nQp8UVV7wjpb2btx189RcPrlq1NdegHAZdcklK6ZW/deYeUkOKnIZnNq75U2X6jbNGFTQKvYZPmn5tSs/cdeeGo/9557FyYM2dh5um5p11cY2e/LF3pfTEj39y4tyvFzoW1XrQP1M7VlydUrnla0/tP7yn7e6F14xMKX34vj2PPdh2rI8fqU/299vPq+fpJSPLKaWGxik3LVw4c8LQoa3rjvfD49T0ORzfOO+ylMqjP7t+f1e12nXoqTsmNaQ0/FMPP/urvaf79JHq5feuDiZW++00e/be+4Gh5ZQaGueu3t/14gPTG1LDuCVP9v2vRQ3/SvQ6vmPFDe8ZWk6pPHTCosf+0NM/j1Lb59BzZOvXpzQ2pJQaGm9YsWPHipahE+auaNvf1cePUy9pKFXPbq1lpVIppVQXU0N9sr/eDyE5h5RS/ewv8nsNwGuSBiAgDUBAGoCANAABaQAC0gAEpAEISAMQkAYgIA1AQBqAgDQAAWkAAtIABKQBCEgDEJAGICANQEAagIA0AAFpAALSAASkAQhIAxCQBiAwKPeA/0HvJ4IVnEPo5Rz626C2trbcG4rCUfdyDqkeDqG0efPm3BuAmuO9BiAgDUBAGoCANAABaQAC0gAEpAEISAMQkAYgIA1AoDRjxozcG4Ca49YABKQBCEgDEJAGICANQEAagIA0AAFpAALSAASkAQhIAxCQBiBQqlaruTcANcetAQhIAxCQBiAgDUBAGoCANAABaQAC0gAEpAEISAMQkAYgIA1AQBqAgDQAAWkAAtIABKQBCEgDEJAGICANQEAagIA0AAFpAALSAASkAQhIAxCQBiAgDUBAGoCANAABaQAC/wYukN2uYIbdrQAAAABJRU5ErkJggg==)"
      ],
      "metadata": {
        "id": "TqefyVvrJwyW"
      }
    },
    {
      "cell_type": "markdown",
      "source": [
        "și una sau mai multe stări finale, cu blocurile rearanjate, de exemplu:"
      ],
      "metadata": {
        "id": "GaXQpDp3ocQq"
      }
    },
    {
      "cell_type": "markdown",
      "source": [
        "![image.png](data:image/png;base64,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)"
      ],
      "metadata": {
        "id": "SkV95EvBdu9x"
      }
    },
    {
      "cell_type": "markdown",
      "source": [
        "Se cere secvența de mutări necesare pentru a ajunge din starea inițială în starea finală. În cadrul unei mutări putem lua orice cub aflat în vârful unei stive și îl putem pune în vârful oricărei alte stive."
      ],
      "metadata": {
        "id": "ueK4_tgRolNk"
      }
    },
    {
      "cell_type": "markdown",
      "source": [
        "Modificați funcția estimeaza_h astfel încât să implementeze una dintre următoare euristici în funcție de o valoare dată ca parametru:\n",
        "- _banala_ - va returna costul minim pe o mutare daca starea nu e scop și 0 dacă e scop\n",
        "- _euristica mutari_ - va returna un număr de mutări (mai mic sau egal decăt numărul real de mutări astfel încât să ajungem de la starea curentă la cea mai apropiată stare scop)  și 0 dacă starea curentă e scop. Un astfel de număr de mutări e dat de nb = \"câte blocuri nu sunt la locul lor față de fiecare stare scop\" și apoi luând minimul dintre aceste valori nb.\n",
        "- _euristica costuri_ - va returna un cost mai mic sau egal decât costul real al oricărui drum de la nodul curent la orice nod scop, folosindu-se în formulă și de costul de mutare al unui bloc (considerăm costul de mutare echivalent identificatorului său numeric, ex: a -> 1, b -> 2 etc.). Veți verifica care sunt blocurile care nu sunt la locul lor și veți calcula suma costurilor lor de mutare. Pentru fiecare scop se va calcula o astfel de sumă din care returnăm minimul.\n",
        "- _euristica neadmisibila_ - va returna valori astfel încât estimarea pentru nod să fie neadmisibilă."
      ],
      "metadata": {
        "id": "96TksAPab8ZZ"
      }
    },
    {
      "cell_type": "code",
      "execution_count": null,
      "metadata": {
        "id": "ZeZ5XVYW5Ed2"
      },
      "outputs": [],
      "source": []
    },
    {
      "cell_type": "markdown",
      "source": [
        "## 3. Problema 8-puzzle"
      ],
      "metadata": {
        "id": "w5_u_qV0ltMo"
      }
    },
    {
      "cell_type": "markdown",
      "source": [
        "Într-o cutie pătratică (văzută ca o matrice de dimensiune 3x3) sunt 8 plăcuțe, numerotate de la 1 la 8 și un loc liber. Plăcuțele sunt inițial amestecate, ca în imagine. Plăcuțele pot fi mutate pe linie sau coloană doar în spațiul liber (dacă e vecin cu ele). Scopul este să ajungem cu plăcuțele ordonate crescător ca în a doua imagine."
      ],
      "metadata": {
        "id": "4CS-zAivlxpq"
      }
    },
    {
      "cell_type": "markdown",
      "source": [
        "![image.png](data:image/png;base64,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)"
      ],
      "metadata": {
        "id": "eLc5eLbMoM9x"
      }
    },
    {
      "cell_type": "markdown",
      "source": [
        "![image.png](data:image/png;base64,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)"
      ],
      "metadata": {
        "id": "atBl_usjoQRd"
      }
    },
    {
      "cell_type": "markdown",
      "source": [
        "**Considerăm costul pe orice mutare egal cu numărul de pe plăcuța care se mută.**\n",
        "\n",
        "Modificați funcția estimeaza_h astfel încât să implementeze una dintre următoare euristici în funcție de o valoare dată ca parametru:\n",
        "- _banala_ - va returna costul minim pe o mutare daca starea nu e scop și 0 dacă e scop\n",
        "- _euristica mutari_ - va returna un număr de mutări (mai mic sau egal decăt numărul real de mutări astfel încât să ajungem de la starea curentă la cea mai apropiată stare scop) și 0 dacă starea curentă e scop. Un astfel de număr de mutări e dat de np = \"câte plăcuțe nu sunt la locul lor față de pozițiile din stare finală\".\n",
        "- _euristica costuri_ - va returna suma costurilor pentru mutarea plăcuțelor care nu sunt la locul lor.\n",
        "- _euristica manhattan_ - considerăm dm[i] distanța Manhattan pentru plăcuța i de la poziția curentă la poziția în starea finală. Funcția va returna suma acestor distanțe.\n",
        "- _euristica manhattan costuri_ - la fel ca mai sus, considerăm dm[i] distanța Manhattan pentru plăcuța i de la poziția curentă la poziția în starea finală. Funcția va returna costul total al mutării plăcuțelor pe aceste distanțe, adunând pentru fiecare plăcuță i valoarea i*d[i]\n",
        "- _euristica neadmisibila_ - va returna valori astfel încât estimarea pentru nod să fie neadmisibilă."
      ],
      "metadata": {
        "id": "HlrPV6WjMgy9"
      }
    },
    {
      "cell_type": "code",
      "source": [],
      "metadata": {
        "id": "j_a6DTf7MiAB"
      },
      "execution_count": null,
      "outputs": []
    }
  ]
}