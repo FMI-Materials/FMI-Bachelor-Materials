{
  "nbformat": 4,
  "nbformat_minor": 0,
  "metadata": {
    "colab": {
      "provenance": []
    },
    "kernelspec": {
      "name": "python3",
      "display_name": "Python 3"
    },
    "language_info": {
      "name": "python"
    }
  },
  "cells": [
    {
      "cell_type": "markdown",
      "source": [
        "# Ce este Colab?\n",
        "\n",
        "[Colaboratory](https://colab.sandbox.google.com/notebooks/welcome.ipynb) este o instanță [Jupyter notebook](http://jupyter.org/) accesibilă full online. Asta înseamnă că nu necesită setup și le permite utilizatorilor să creeze și să colaboreze împreună cu alții pe documente live care conțin cod rulabil, vizualizări și text explicativ.\n",
        "\n",
        "În general este util pentru a scrie prototipuri și a rezolva probleme scurte, ușor de urmărit secvențial."
      ],
      "metadata": {
        "id": "sB_j6yQ3YKpJ"
      }
    },
    {
      "cell_type": "markdown",
      "source": [
        "Există mai multe variante pentru a rula o secvență de cod după ce ai dat click pe ea:\n",
        "- Apasă butonul de play din stânga acesteia\n",
        "- Rulează `Shift + Enter` pentru a trece la celula următoare\n",
        "- Rulează `Cmd / Ctrl + Enter` pentru a rămâne în celula curentă"
      ],
      "metadata": {
        "id": "Fzekhq2AZecj"
      }
    },
    {
      "cell_type": "code",
      "source": [
        "print('Hello World!')"
      ],
      "metadata": {
        "colab": {
          "base_uri": "https://localhost:8080/"
        },
        "id": "cf3NUxp9aD6t",
        "outputId": "7f1819d6-5f8c-46b8-a056-578c35137be7"
      },
      "execution_count": null,
      "outputs": [
        {
          "output_type": "stream",
          "name": "stdout",
          "text": [
            "Hello World!\n"
          ]
        }
      ]
    },
    {
      "cell_type": "markdown",
      "source": [
        "Sub celulă a apărut outputul acestuia. Outputul poate fi valoarea returnată de celulă, o afișare / serie de afișări (_print_) sau nimic. Obiectele apelate direct sau operațiile returnează o valoare, atribuirile nu apelează nimic:"
      ],
      "metadata": {
        "id": "R2fRN2uteSOQ"
      }
    },
    {
      "cell_type": "code",
      "source": [
        "'Hello World'"
      ],
      "metadata": {
        "colab": {
          "base_uri": "https://localhost:8080/",
          "height": 35
        },
        "id": "PC3c2wnCaHST",
        "outputId": "3430bcb2-0830-4830-b2f9-0a126bb2d0b4"
      },
      "execution_count": null,
      "outputs": [
        {
          "output_type": "execute_result",
          "data": {
            "text/plain": [
              "'Hello World'"
            ],
            "application/vnd.google.colaboratory.intrinsic+json": {
              "type": "string"
            }
          },
          "metadata": {},
          "execution_count": 2
        }
      ]
    },
    {
      "cell_type": "code",
      "source": [
        "5 * 3"
      ],
      "metadata": {
        "colab": {
          "base_uri": "https://localhost:8080/"
        },
        "id": "Iq_tChxYih4j",
        "outputId": "fc7afce1-4e9b-43ca-c8c1-83501719f8a9"
      },
      "execution_count": null,
      "outputs": [
        {
          "output_type": "execute_result",
          "data": {
            "text/plain": [
              "15"
            ]
          },
          "metadata": {},
          "execution_count": 3
        }
      ]
    },
    {
      "cell_type": "code",
      "source": [
        "x = 6 * 4"
      ],
      "metadata": {
        "id": "dEW46-lhikgQ"
      },
      "execution_count": null,
      "outputs": []
    },
    {
      "cell_type": "markdown",
      "source": [
        "Observi numărul care a apărut în stânga celulelor de până acum? Are forma: `[1]`. În colab putem rula celulele de mai multe ori, în orice ordine ne dorim. Acel număr ne indică ultimul indice de rulare corespunzător celulei - util pentru a ne da seama în proiecte mai mari care a fost ultima celulă rulată sau care a fost ordinea în care am rulat anumite celule."
      ],
      "metadata": {
        "id": "94H5XEJOaKLA"
      }
    },
    {
      "cell_type": "markdown",
      "source": [
        "Variabilele definite într-o celulă pot fi utilizate în orice celulă apelată ulterior, indiferent de poziția acesteia. Folosește săgeata în sus de pe celula de mai jos pentru a o muta deasupra atribuirii și observă rezultatul rulării acesteia:"
      ],
      "metadata": {
        "id": "ph3RuRyyiw04"
      }
    },
    {
      "cell_type": "code",
      "source": [
        "x"
      ],
      "metadata": {
        "colab": {
          "base_uri": "https://localhost:8080/"
        },
        "id": "Uuic3hK-inoj",
        "outputId": "a066b4ad-f5b1-4eee-c044-7aeab1307fc5"
      },
      "execution_count": null,
      "outputs": [
        {
          "output_type": "execute_result",
          "data": {
            "text/plain": [
              "24"
            ]
          },
          "metadata": {},
          "execution_count": 5
        }
      ]
    },
    {
      "cell_type": "markdown",
      "source": [
        "Până acum am aflat că toate variabilele definite liber sunt globale. Rulări repetate neintenționate pot duce la confuzie în cod. Uneori aceasta poate fi rezolvată prin resetarea tuturor variabilelor globale:"
      ],
      "metadata": {
        "id": "iQXEemU6kBkj"
      }
    },
    {
      "cell_type": "code",
      "source": [
        "%reset -f"
      ],
      "metadata": {
        "id": "VGdsRachkkOh"
      },
      "execution_count": null,
      "outputs": []
    },
    {
      "cell_type": "markdown",
      "source": [
        "Observi operatorul `%` pus la începutul liniei? Acesta anunță că vrem să folosim o `funcție magică`. Puteți afla mai multe detalii despre aceste funcții dacă apelați celula de mai jos:"
      ],
      "metadata": {
        "id": "S3osRUunkrOO"
      }
    },
    {
      "cell_type": "code",
      "source": [
        "%magic"
      ],
      "metadata": {
        "id": "M4WyPWN9koWN"
      },
      "execution_count": null,
      "outputs": []
    },
    {
      "cell_type": "markdown",
      "source": [
        "O altă modalitate de a interacționa cu environmentul este cu ajutorul comenzii `!`. O putem folosi atât pentru a accesa poziția noastră în cloud cât și pentru a instala diverse pachete cu `!pip install <librărie>`."
      ],
      "metadata": {
        "id": "knmxtKMxlVEW"
      }
    },
    {
      "cell_type": "code",
      "source": [
        "!ls"
      ],
      "metadata": {
        "colab": {
          "base_uri": "https://localhost:8080/"
        },
        "id": "-ybepk27lsSx",
        "outputId": "a6ce9163-2474-41e5-fded-14e40969e9d8"
      },
      "execution_count": null,
      "outputs": [
        {
          "output_type": "stream",
          "name": "stdout",
          "text": [
            "sample_data\n"
          ]
        }
      ]
    },
    {
      "cell_type": "markdown",
      "source": [
        "Ce este sample\\_data?\n",
        "\n",
        "În stânga paginii ai un buton de files care îți arată unde te afli. **Atenție:** Nu apăsa pe `..` din directorul default, dar dacă o faci din greșeală îți poți accesa fișierele apăsând pe `/content`.\n",
        "\n",
        "Directorul _sample\\_data_ conține o serie de fișiere cu care te poți juca până te familiarizezi cu Colab. Citește fișierul _README.md_ pentru mai multe detalii despre datele oferite."
      ],
      "metadata": {
        "id": "-D_Sk6Q4mAsV"
      }
    },
    {
      "cell_type": "markdown",
      "source": [
        "Poți folosi drag & drop sau butonul de add files pentru a adăuga un fișier în sesiunea curentă. Dacă vrei să păstrezi fișierul pentru mai mult timp (sau să accesezi un fișier deja salvat) te poți conecta la contul tău Google Drive rulând codul de mai jos:"
      ],
      "metadata": {
        "id": "ylLePm_RnQgh"
      }
    },
    {
      "cell_type": "code",
      "source": [
        "from google.colab import drive\n",
        "drive.mount('/content/drive/')"
      ],
      "metadata": {
        "id": "MVXlnPR3lsxO"
      },
      "execution_count": null,
      "outputs": []
    },
    {
      "cell_type": "markdown",
      "source": [
        "De aici poți citi / scrie fișiere în root-ul drive-ului tău personal (rădăcina arborelui de fișiere), într-o locație custom scriind calea până la aceasta de fiecare dată, sau poți seta noul root în locația dorită folosind librăria _os_:"
      ],
      "metadata": {
        "id": "OhhBESYsnvRO"
      }
    },
    {
      "cell_type": "code",
      "source": [
        "import os\n",
        "os.chdir(\"/content/drive/MyDrive/Cram School\")"
      ],
      "metadata": {
        "id": "pT-9WEM8ovKp"
      },
      "execution_count": null,
      "outputs": []
    },
    {
      "cell_type": "markdown",
      "source": [
        "Notebook-urile Colab pot fi shared cu view access sau cu edit access. Cum ne afectează asta:\n",
        "1. **Edit access**: pe măsură ce modifici celule acestea se modifică automat pentru toate persoanele care au orice fel de drept la acest fișier\n",
        "2. **View access**: poți face modificări direct pe fișier, dar nu se salvează automat. Le poți salva cu `Ctrl + S`, conectându-te la drive-ul personal folosind codul de mai sus, sau copiind pe drive-ul personal cu ajutorul butonului din headerul paginii: _Copy to Drive_. În practică toate aceste metode fac exact același lucru."
      ],
      "metadata": {
        "id": "OD5wgbFdrO4-"
      }
    },
    {
      "cell_type": "markdown",
      "source": [
        "Pentru a crea celule noi poți folosi butoanele __+ Code__ și __+ Text__. Le poți accesa din headerul paginii sau după ce faci hover pe linia dintre 2 celule."
      ],
      "metadata": {
        "id": "4Qf-sxjmsWls"
      }
    },
    {
      "cell_type": "markdown",
      "source": [
        "# Ce e Markdown?\n",
        "\n",
        "Colab are 2 tipuri de celule: text și cod. Celulele de text sunt formatate folosind un limbaj simplu de markup numit Markdown.\n",
        "\n",
        "Pentru a vedea sursa limbajului poți da dublu click pe o celulă de text. Astfel va fi afișată atât sursa Markdown cât și varianta formatată. Deasupra variantei Markdown există o serie de setări care ajută la formatare."
      ],
      "metadata": {
        "id": "puFFU685Kcmq"
      }
    },
    {
      "cell_type": "markdown",
      "source": [
        "## Referință\n",
        "\n",
        "Markdown | Preview\n",
        "--- | ---\n",
        "`**bold text**` | **bold text**\n",
        "`*italicized text*` or `_italicized text_` | *italicized text*\n",
        "`` `Monospace` `` | `Monospace`\n",
        "`~~strikethrough~~` | ~~strikethrough~~\n",
        "`[Link](https://www.google.com)` | [Link](https://www.google.com)\n",
        "`![Imagine](https://www.google.com/images/rss.png)` | ![Imagine](https://www.google.com/images/rss.png)\n",
        "\n",
        "\n",
        "---\n",
        "Titlurile sunt formatate ca antete.\n",
        "\n",
        "```markdown\n",
        "# Secțiunea 1\n",
        "# Secțiunea 2\n",
        "## Sub-secțiune sub Secțiunea 2\n",
        "### Sub-secțiune sub sub-secțiunea de sub Secțiunea 2\n",
        "# Secțiunea 3\n",
        "```\n",
        "\n",
        "# Secțiunea 1\n",
        "# Secțiunea 2\n",
        "## Sub-secțiune sub Secțiunea 2\n",
        "### Sub-secțiune sub sub-secțiunea de sub Secțiunea 2\n",
        "# Secțiunea 3\n",
        "\n",
        "Indexul, aflat în partea stângă a Colabului, este populat folosind cel mult un titlu de secțiune din fiecare celulă text.\n",
        "\n",
        "---\n",
        "\n",
        "```markdown\n",
        "> Un nivel de indentare\n",
        "```\n",
        "\n",
        "> Un nivel de indentare\n",
        "\n",
        "\n",
        "```markdown\n",
        ">> Două nivele de indentare\n",
        "```\n",
        "\n",
        ">> Două nivele de indentare\n",
        "\n",
        "---\n",
        "\n",
        "Secțiuni de cod\n",
        "\n",
        "````\n",
        "```python\n",
        "print(\"a\")\n",
        "```\n",
        "````\n",
        "\n",
        "```python\n",
        "print(\"a\")\n",
        "```\n",
        "\n",
        "---\n",
        "\n",
        "Liste ordonate:\n",
        "```markdown\n",
        "1. Unu\n",
        "1. Doi\n",
        "1. Trei\n",
        "```\n",
        "1. Unu\n",
        "1. Doi\n",
        "1. Trei\n",
        "\n",
        "---\n",
        "\n",
        "Liste neordonate:\n",
        "```markdown\n",
        "* Unu\n",
        "* Doi\n",
        "* Trei\n",
        "```\n",
        "* Unu\n",
        "* Doi\n",
        "* Trei\n",
        "\n",
        "---\n",
        "\n",
        "Ecuații:\n",
        "\n",
        "```markdown\n",
        "$y=x^2$\n",
        "\n",
        "$e^{i\\pi} + 1 = 0$\n",
        "\n",
        "$e^x=\\sum_{i=0}^\\infty \\frac{1}{i!}x^i$\n",
        "\n",
        "$\\frac{n!}{k!(n-k)!} = {n \\choose k}$\n",
        "\n",
        "$A_{m,n} =\n",
        " \\begin{pmatrix}\n",
        "  a_{1,1} & a_{1,2} & \\cdots & a_{1,n} \\\\\n",
        "  a_{2,1} & a_{2,2} & \\cdots & a_{2,n} \\\\\n",
        "  \\vdots  & \\vdots  & \\ddots & \\vdots  \\\\\n",
        "  a_{m,1} & a_{m,2} & \\cdots & a_{m,n}\n",
        " \\end{pmatrix}$\n",
        "```\n",
        "\n",
        "$y=x^2$\n",
        "\n",
        "$e^{i\\pi} + 1 = 0$\n",
        "\n",
        "$e^x=\\sum_{i=0}^\\infty \\frac{1}{i!}x^i$\n",
        "\n",
        "$\\frac{n!}{k!(n-k)!} = {n \\choose k}$\n",
        "\n",
        "$A_{m,n} =\n",
        " \\begin{pmatrix}\n",
        "  a_{1,1} & a_{1,2} & \\cdots & a_{1,n} \\\\\n",
        "  a_{2,1} & a_{2,2} & \\cdots & a_{2,n} \\\\\n",
        "  \\vdots  & \\vdots  & \\ddots & \\vdots  \\\\\n",
        "  a_{m,1} & a_{m,2} & \\cdots & a_{m,n}\n",
        " \\end{pmatrix}$\n",
        "\n",
        "\n",
        " ---\n",
        "\n",
        "Tabele:\n",
        "```markdown\n",
        "Numele primei coloane  | Numele celei de-a doua coloane\n",
        "-----------------------|------------------\n",
        "Linia 1, Coloana 1     | Linia 1, Coloana 2\n",
        "Linia 2, Coloana 1     | Linia 2, Coloana 2\n",
        "\n",
        "```\n",
        "\n",
        "Numele primei coloane  | Numele celei de-a doua coloane\n",
        "-----------------------|------------------\n",
        "Linia 1, Coloana 1     | Linia 1, Coloana 2\n",
        "Linia 2, Coloana 1     | Linia 2, Coloana 2\n",
        "\n",
        "---\n",
        "\n",
        "Linii orizontale:\n",
        "```markdown\n",
        "---\n",
        "```\n",
        "\n",
        "---\n"
      ],
      "metadata": {
        "id": "oXNoaP-VNZve"
      }
    },
    {
      "cell_type": "markdown",
      "source": [
        "# Diferențe între Markdownul de pe Colab și alte variante de Markdown\n",
        "\n",
        "Colab folosește [marked.js](https://github.com/chjj/marked) deci este similar, dar nu identic cu Markdownul folosit de Jupyter și GitHub.\n",
        "\n",
        "Colab acceptă ecuații $\\LaTeX$ (MathJax) la fel ca Jupyter, dar nu acceptă taguri HTML în Markdown. Colab nu acceptă unele extrauri pe care le are GitHub, cum ar fi emojiuri sau checkboxuri.\n",
        "\n",
        "Pentru a include HTML într-un notebook Colab vezi [%%html magic](/notebooks/basic_features_overview.ipynb#scrollTo=qM4myQGfQboQ)."
      ],
      "metadata": {
        "id": "D8AWq3U4Na9d"
      }
    },
    {
      "cell_type": "markdown",
      "source": [
        "# Dacă vrei să afli mai multe\n",
        "\n",
        "Mai multe resurse despre Colab Notebooks și cum poate fi folosit pentru Data Visualisation și Machine Learning aici:\n",
        "\n",
        "* [Welcome to Colaboratory](https://colab.research.google.com/notebooks/welcome.ipynb)\n",
        "* [Github Markdown basics](https://help.github.com/articles/markdown-basics/)\n",
        "* [Github flavored Markdown](https://help.github.com/articles/github-flavored-markdown/)\n",
        "* [Original Markdown spec: Syntax](http://daringfireball.net/projects/markdown/syntax)\n",
        "* [Original Markdown spec: Basics](http://daringfireball.net/projects/markdown/basics)\n",
        "* [marked.js library used by Colab](https://github.com/chjj/marked)\n",
        "* [LaTex mathematics for equations](https://en.wikibooks.org/wiki/LaTeX/Mathematics)"
      ],
      "metadata": {
        "id": "aWJZ2EgKNdot"
      }
    }
  ]
}