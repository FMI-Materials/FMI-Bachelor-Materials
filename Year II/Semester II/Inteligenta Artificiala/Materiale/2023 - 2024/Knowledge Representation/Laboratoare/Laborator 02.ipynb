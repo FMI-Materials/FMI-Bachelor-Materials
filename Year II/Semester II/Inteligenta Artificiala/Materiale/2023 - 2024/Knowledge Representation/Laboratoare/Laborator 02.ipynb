{
  "nbformat": 4,
  "nbformat_minor": 0,
  "metadata": {
    "colab": {
      "provenance": []
    },
    "kernelspec": {
      "name": "python3",
      "display_name": "Python 3"
    },
    "language_info": {
      "name": "python"
    }
  },
  "cells": [
    {
      "cell_type": "markdown",
      "source": [
        "# Problema canibalilor și misionarilor"
      ],
      "metadata": {
        "id": "Fh8ZrWzvhjP9"
      }
    },
    {
      "cell_type": "markdown",
      "source": [
        "Pe malul râului se află N canibali și N misionari. Lângă ei se află o barcă cu maxim. M locuri. Toată lumea vrea să ajungă pe partea cealaltă a râului, dar nimeni nu știe să înoate.\n",
        "\n",
        "Nici pe barcă, nici pe vreun mal nu trebuie să fie vreodată mai mulți canibali decât misionari (altfel o să îi mănânce). În barcă trebuie să fie mereu minim un om și maxim M oameni. Permutările între mal și barcă au loc instantaneu, așadar nu ne punem problema ordinii în care coboară sau urcă oamenii în barcă.\n",
        "\n",
        "Care este o secvență de acțiuni în urma căreia toți oamenii să ajungă pe celălalt mal fără ca misionarii să ajungă prânz pentru canibali?\n",
        "\n",
        "*Problema clasica este cu N=3 (canibali / misionari) și M=2 (locuri în barcă).*"
      ],
      "metadata": {
        "id": "jKH7v_oYhiFJ"
      }
    },
    {
      "cell_type": "markdown",
      "source": [
        "## 1. Clasa Nod"
      ],
      "metadata": {
        "id": "rxYvWaeI4ArO"
      }
    },
    {
      "cell_type": "markdown",
      "source": [
        "Modificați informația clasei Nod pentru datele jocului curent. Noua informație va include:\n",
        "* numărul de canibali pe malul stâng;\n",
        "* numărul de misionari pe malul stâng;\n",
        "* poziția bărcii.\n",
        "\n",
        "Citiți dintr-un **_fișier_** valorile parametrilor N și M și păstrați-le ca elemente statice în clasă. Puteți pune valori default în clasă N=3 și M=2.\n",
        "\n",
        "Implementați următoarele metode:\n",
        "* constructorul clasei -> *\\_\\_init__*\n",
        "* egalitatea -> *\\_\\_eq__*\n",
        "* transformarea în obiect de tip string a informației nodului curent -> *\\_\\_str__*\n",
        "* transformarea în obiect de tip string a informației elementelor dintr-o listă -> *\\_\\_repr__*\n",
        "\n",
        "_Observații:_\n",
        "* Informația nodului curent va fi afișată de forma:\n",
        "```\n",
        "Stare curentă:\n",
        "3 misionari, 3 canibali  | 0 misionari, 0 canibali\n",
        "Barca se află pe malul stâng\n",
        "```\n",
        "* Informația elementului dintr-o listă va fi afișată de forma:\n",
        "```\n",
        "(3, 3, 0)\n",
        "```\n",
        "Unde tuplul reprezintă (<număr misionari pe malul stâng>, <număr canibali pe malul stâng>, <malul pe care se află barca>)"
      ],
      "metadata": {
        "id": "FG42UPR34E09"
      }
    },
    {
      "cell_type": "code",
      "source": [],
      "metadata": {
        "id": "Ij-kD5mU9BKS"
      },
      "execution_count": null,
      "outputs": []
    },
    {
      "cell_type": "markdown",
      "source": [
        "## 2. Clasa Graf"
      ],
      "metadata": {
        "id": "9C745wp_8zrC"
      }
    },
    {
      "cell_type": "markdown",
      "source": [
        "Modificați următoarele funcții din clasa Graf pentru problema curentă:\n",
        "* scop - verifică dacă toți oamenii au ajuns pe malul drept\n",
        "* succesori - generează lista de succesori valizi ai stării curente\n",
        "\n",
        "_Sugestie:_ Pentru a scrie mai puțin, puteți calcula succesorii unei stări în clasa Nod și apela acea funcție din clasa Graf. Nu uitați să verificați că succesorul nu a mai fost vizitat în drumul de la rădăcină!"
      ],
      "metadata": {
        "id": "_HtAc0J46xEV"
      }
    },
    {
      "cell_type": "code",
      "source": [],
      "metadata": {
        "id": "qyOODCJW9CFz"
      },
      "execution_count": null,
      "outputs": []
    },
    {
      "cell_type": "markdown",
      "source": [
        "## 3. Căutarea drumului"
      ],
      "metadata": {
        "id": "D92Wk8Y49Dgg"
      }
    },
    {
      "cell_type": "markdown",
      "source": [
        "Creați o funcție *printDrumRadacina()* care returnează drumul până la nodul curent în formatul de mai jos. Rulați problema cu BFS / DFS pentru N=3, M=2 și NSOL=2 (numărul de soluții cerute) și afișați într-un fișier cu calea dată de la tastatură drumul de la rădăcină până la nodul curent (în formatul precizat anterior) și timpul de rulare al algoritmului:\n",
        "\n",
        "```\n",
        "Stare curentă:\n",
        "3 misionari, 3 canibali  | 0 misionari, 0 canibali\n",
        "Barca se află pe malul stâng\n",
        "\n",
        "Barca s-a deplasat de pe malul stâng pe malul drept cu 0 misionari și 2 canibali.\n",
        "\n",
        "Stare curentă:\n",
        "3 misionari, 1 canibali  | 0 misionari, 2 canibali\n",
        "Barca se află pe malul drept\n",
        "\n",
        "...\n",
        "\n",
        "Stare curentă:\n",
        "0 misionari, 0 canibali  | 3 misionari, 3 canibali\n",
        "Barca se află pe malul drept\n",
        "\n",
        "Timpul de rulare: 0.00021839141845703125 secunde.\n",
        "```"
      ],
      "metadata": {
        "id": "B6WYHcX99CSv"
      }
    },
    {
      "cell_type": "code",
      "source": [],
      "metadata": {
        "id": "QmeEt8oiATe9"
      },
      "execution_count": null,
      "outputs": []
    },
    {
      "cell_type": "markdown",
      "source": [
        "## 4. Problemă alternativă"
      ],
      "metadata": {
        "id": "9ofkJ7RpBgaQ"
      }
    },
    {
      "cell_type": "markdown",
      "source": [
        "Modificați problema astfel încât în starea inițială avem un număr NM de misionari pe malul stâng și un alt număr NC de canibali pe malul drept, iar toată lumea își dorește să traverseze râul.\n",
        "\n",
        "Canibalii pot mânca misionarii doar pe malul drept sau în barcă (malul stâng este foarte aproape de tabăra misionarilor în care au fost plasate mai mult de NC gărzi care se asigură că totul este în regulă).\n",
        "\n",
        "Barca se află inițial pe malul stâng (al misionarilor) întrucât aceștia sunt singurii care știu să o conducă.\n",
        "\n",
        "NM > 0, NC > 0, M >= 2\n",
        "\n",
        "**Atenție:** asta înseamnă că în barcă trebuie să fie mereu minim un misionar."
      ],
      "metadata": {
        "id": "m22ELUFfEPnx"
      }
    },
    {
      "cell_type": "code",
      "source": [],
      "metadata": {
        "id": "o06im1ZLG682"
      },
      "execution_count": null,
      "outputs": []
    }
  ]
}