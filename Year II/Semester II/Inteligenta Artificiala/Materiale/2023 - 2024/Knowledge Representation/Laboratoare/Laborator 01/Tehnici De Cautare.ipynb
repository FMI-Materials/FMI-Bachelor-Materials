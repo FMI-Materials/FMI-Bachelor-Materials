{
 "cells": [
  {
   "cell_type": "markdown",
   "metadata": {
    "id": "mqEXCrwt7G1A"
   },
   "source": [
    "## Tehnici de căutare"
   ]
  },
  {
   "cell_type": "markdown",
   "metadata": {
    "id": "7A7IbWWu7IoE"
   },
   "source": [
    "Se folosesc pentru probleme care pot fi abstractizate la un graf (orientat sau neorientat).\n",
    "Presupun existența unui nod de început (nodul start) și a unuia sau mai multe noduri scop (la care vrem să ajungem din nodul start)."
   ]
  },
  {
   "cell_type": "markdown",
   "metadata": {
    "id": "a9vD-YSw7J4N"
   },
   "source": [
    "### BreadthFirst"
   ]
  },
  {
   "cell_type": "markdown",
   "metadata": {
    "id": "xhaPrxhf7K8K"
   },
   "source": [
    "Pași:\n",
    "1. Se pune nodul start într-o coadă.\n",
    "2. Repetitiv:\n",
    "\n",
    "  a. În cazul în care coada nu este vidă, se extrage primul nod din coadă și se verifică dacă este nod scop, caz în care se returnează o soluție. Dacă am ajuns la numărul de soluții dorit, ne oprim.\n",
    "\n",
    "  b. Expandăm nodul și adăugăm succesorii săi în coadă, cu condiția ca succesorii să nu fi fost deja vizitați pe ramurile din arbore corespunzătoare lor (**atenție:** e posibil să fi fost vizitați pe o altă ramură din arbore, dar acest lucru nu contează, vizitarea nu se consideră la nivel global ci doar pe drumul curent al acelui succesor)."
   ]
  },
  {
   "cell_type": "markdown",
   "metadata": {
    "id": "Ipdt-GMF7WMy"
   },
   "source": [
    "### DepthFirst"
   ]
  },
  {
   "cell_type": "markdown",
   "metadata": {
    "id": "p9U3IP4k7XC7"
   },
   "source": [
    "1. Se pune nodul start într-o stivă.\n",
    "2. Repetitiv:\n",
    "  \n",
    "  a. Dacă vârful stivei este nod scop, afișăm o soluție. Dacă am ajuns la numărul de soluții dorit, ne oprim.\n",
    "\n",
    "  b. Pentru vârful stivei: dacă nu i s-au generat succesorii deja, adăugăm succesorii săi nevizitați pe drumul curent din stivă și verificăm dacă e nod scop, caz în care se returnează o soluție. Dacă am ajuns la numărul de soluții dorit, ne oprim.\n",
    "\n",
    "  c. Dacă vârful stivei nu are succesori sau au fost deja generați și procesați, este eliminat din stivă."
   ]
  }
 ],
 "metadata": {
  "colab": {
   "provenance": []
  },
  "kernelspec": {
   "display_name": "Python 3 (ipykernel)",
   "language": "python",
   "name": "python3"
  },
  "language_info": {
   "codemirror_mode": {
    "name": "ipython",
    "version": 3
   },
   "file_extension": ".py",
   "mimetype": "text/x-python",
   "name": "python",
   "nbconvert_exporter": "python",
   "pygments_lexer": "ipython3",
   "version": "3.11.4"
  }
 },
 "nbformat": 4,
 "nbformat_minor": 4
}
