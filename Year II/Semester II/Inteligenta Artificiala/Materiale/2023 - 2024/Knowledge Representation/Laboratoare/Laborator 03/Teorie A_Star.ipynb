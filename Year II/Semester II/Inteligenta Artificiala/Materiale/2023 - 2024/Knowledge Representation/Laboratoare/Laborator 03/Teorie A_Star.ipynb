{
 "cells": [
  {
   "cell_type": "markdown",
   "metadata": {
    "id": "Zlyckomwb6MA"
   },
   "source": [
    "# Tehnici de căutare informată: Algoritmul A*"
   ]
  },
  {
   "cell_type": "markdown",
   "metadata": {
    "id": "c97pB5a2fgsc"
   },
   "source": [
    "Algoritmul A* se folosește pentru a găsi un drum de cost minim de la un nod-start la un nod-scop într-un graf cu muchii/arce ponderate.\n",
    "\n",
    "Datele de intrare:\n",
    "\n",
    "* graful (nodurile, muchiile/arcele împreună cu costurile lor)\n",
    "* nodul din care începe căutarea (nodul-start)\n",
    "* un scop dat sub forma unei condiții pe care trebuie să o îndeplinească nodul căutat (se poate oferi chiar nodul propriu-zis, condiția fiind relația de egalitate cu acest nod). Vom numi mai departe nodul care îndeplinește condiția nod-scop\n",
    "* o estimare (euristică) a costului de la fiecare nod din graf la nodul (nodurile) scop.\n",
    "\n",
    "Notații:\n",
    "\n",
    "* $f$ - costul unui drum\n",
    "* $\\hat{f}$ - costul estimat al unui drum\n",
    "* $g(nod_c)$ - costul de la nodul start la un nod curent, $nod_c$, din drum\n",
    "* $h(nod_c)$ - costul de la nodul curent la nodul scop pe un anumit drum\n",
    "* $\\hat{h}(nod_c)$ - costul estimat de la nodul curent la nodul scop\n",
    "\n",
    "Pentru un drum dat D, avem formula: $f_D$ = $g_D(nod_c$) + $h_D(nod_c$), unde $nod_c$ e un nod din drumul D\n",
    "\n",
    "Deoarece pe parcursul construirii arborelui de parcurgere nu cunoaștem costul adevărat de la nodul curent la nodul scop (graful fiind descoperit pe măsura ce e parcurs), ne vom folosi în algoritm de formula costului estimat: $\\hat{f}_D$ = $g_D$($nod_c$) + $\\hat{h}_D$($nod_c$).\n",
    "\n",
    "Spunem că euristica este admisibilă dacă îndeplinește condiția: $\\hat{h}(nod) \\leq h(nod)$\n",
    "\n",
    "Regula de consistență: Având un arc $n_1 \\rightarrow n_2$, euristica calculată în nodul $n_1$ trebuie să fie mai mică sau egală cu costul arcului $n_1 \\rightarrow n_2$ adunat la euristica nodului $n_2$\n",
    "\n",
    "$\\hat{h}(n1) \\leq cost(n1 \\rightarrow n2) + \\hat{h}(n2)$"
   ]
  },
  {
   "cell_type": "markdown",
   "metadata": {
    "id": "jIS4HVXuWdTq"
   },
   "source": [
    "## Pașii algoritmului"
   ]
  },
  {
   "cell_type": "markdown",
   "metadata": {
    "id": "JY6TrLMZcX68"
   },
   "source": [
    "Se consideră două liste: OPEN (cu nodurile descoperite care înca nu au fost expandate) și CLOSED (cu nodurile descoperite și expandate).\n",
    "\n",
    "1. În lista open se pune la început doar nodul de pornire.\n",
    "2. Inițial lista closed e vidă\n",
    "3. Cât timp lista open nu e vidă se execută repetitiv pașii următori:\n",
    "  - Se extrage primul nod, n, din lista open și se pune în closed.\n",
    "  - Dacă nodul n este nod scop, se oprește căutarea și se afișează drumul de la nodul-start până la nodul n.\n",
    "  - Se extinde nodul n, obținând succesorii lui în graf. Nu se vor lua în considerare succesorii care se află în drumul de la nodul start la n. Toți succesorii îl au ca părinte pe n. Toți succesorii care nu se află deja în open sau closed sunt inserați în lista open astfel încât aceasta să fie în continuare ordonată crescător dupa f. Dacă sunt două noduri cu același f, se așează înainte nodul cu g-ul mai mare.\n",
    "  - Pentru succesorii care sunt deja în open sau closed, în cazul în care pentru drumul care trece prin n, s-a obținut un f mai mic, li se schimbă părintele în n și li se actualizează f-ul, iar nodurile din open sunt repoziționate în lista astfel încât să rămână ordonată crescător după f (și descrescător după g).\n",
    "  - Pentru nodurile din closed (care au fost deja expandate) ar trebui refăcut calculul pentru nodurile succesoare lor, prin urmare cel mai simplu este să le readăugăm direct în open."
   ]
  },
  {
   "cell_type": "markdown",
   "metadata": {
    "id": "wcdX4Za5g8Ut"
   },
   "source": [
    "## Implementare"
   ]
  },
  {
   "cell_type": "markdown",
   "metadata": {
    "id": "szjgqj_ig-B_"
   },
   "source": [
    "Pentru implementare putem considera niște clase ajutătoare, care ar fi adaptate la particularitățile problemei curente rezolvate cu A*.\n",
    "\n",
    "Clasa **Nod** reprezintă clasa prin care se memorează informațiile despre nodurile din graf. Poate avea următoarele proprietăți:\n",
    "\n",
    "- informație - referință către informația nodului\n",
    "- părinte - referință către nodul-părinte din arbore. Pentru rădăcina arborelui, părintele va avea valoarea None.\n",
    "- g - costul de la rădăcina arborelui până la nodul curent\n",
    "- f - costul estimat pentru drumul care pornește de la rădăcină și trece prin nodul curent\n",
    "- h - estimarea făcuta pentru nod (valoarea funcției euristice pentru nod)\n",
    "\n",
    "și următoarele metode:\n",
    "\n",
    "- expandează / succesori - care va returna o listă cu toți succesorii posibili ai nodului curent\n",
    "- scop - care testează dacă nodul e nod scop"
   ]
  },
  {
   "cell_type": "markdown",
   "metadata": {
    "id": "sHIUIGi-i5bh"
   },
   "source": [
    "## Pseudocod"
   ]
  },
  {
   "cell_type": "markdown",
   "metadata": {
    "id": "9rLoTexbQdrq"
   },
   "source": [
    "Puteți accesa pseudocodul algoritmului [aici](https://en.wikipedia.org/wiki/A*_search_algorithm)"
   ]
  },
  {
   "cell_type": "markdown",
   "metadata": {
    "id": "ndxKRKUBi7gt"
   },
   "source": [
    "Alternativ:\n",
    "\n",
    "```\n",
    "Inițial lista open e vidă\n",
    "Adaugă nodStart din graf în lista open\n",
    "Crează o listă numită closed care inițial e vidă\n",
    "\n",
    "Cât timp lista open nu e vidă repetă:\n",
    "  Extrage primul nod din open (numit nodCurent) și adaugă-l în lista closed\n",
    "\n",
    "  Dacă nodCurent este nod-scop:\n",
    "    Returnează drumul de la nodul de start la nodul curent\n",
    "    Oprește căutarea\n",
    "\n",
    "  Expandează nodul curent. Din definiția funcției de succesori, aceștia nu sunt strămoși ai nodului curent\n",
    "\n",
    "  Pentru fiecare succesor al nodCurent:\n",
    "    NodNou devine None\n",
    "    Dacă succesorul este în open:\n",
    "      Dacă f-ul succesorului curent este mai mic decât f-ul nodului din open SAU f-urile sunt egale și g-ul succesorului curent este mai mare decât g-ul nodului din open:\n",
    "        Elimină nodul din open\n",
    "        NodNou devine succesorul\n",
    "\n",
    "    Altfel, dacă succesorul este în closed:\n",
    "      Dacă f-ul succesorului curent este mai mic decât f-ul nodului din open SAU f-urile sunt egale și g-ul succesorului curent este mai mare decât g-ul nodului din open:\n",
    "        Elimină nodul din closed\n",
    "        NodNou devine succesorul\n",
    "    \n",
    "    Altfel:\n",
    "      NodNou devine succesorul\n",
    "\n",
    "    Dacă NodNou nu e None:\n",
    "      Adaugă NodNou în lista open astfel încât open să rămână ordonată crescător după f și, în caz de egalitate, descrescător după g\n",
    "```"
   ]
  },
  {
   "cell_type": "markdown",
   "metadata": {
    "id": "GHxYnQ1Kj9ro"
   },
   "source": [
    "Explicații pas cu pas pe exemplu: https://docs.google.com/document/d/1fjezmPKjN6jB5Uv_m_jhKKoNtk9MzD6EaLTnChuBlI0/edit?usp=sharing"
   ]
  },
  {
   "cell_type": "markdown",
   "metadata": {
    "id": "TQDMcdZckUl_"
   },
   "source": [
    "## Aplicarea algoritmului A* în probleme"
   ]
  },
  {
   "cell_type": "markdown",
   "metadata": {
    "id": "eXYC9WgdkY1F"
   },
   "source": [
    "https://docs.google.com/document/d/1KecWOD3DnSjK1Chfs27xZDyo1uh76aEYZc63pmDmFjk/edit?usp=sharing"
   ]
  },
  {
   "cell_type": "markdown",
   "metadata": {
    "id": "0ED9PgeglQyd"
   },
   "source": [
    "# IDA*"
   ]
  },
  {
   "cell_type": "markdown",
   "metadata": {
    "id": "4yiLUPRHlUwz"
   },
   "source": [
    "Deoarece algoritmul A* folosește o coadă, în care salvează întreaga frontieră a arborelui de căutare, se poate ajunge ușor la o cantitate mare de memorie ocupată, iar pentru unele probleme, se depășesc resursele sitemului ducând la eșecul algoritmului.\n",
    "Prin urmare s-a încercat limitarea memoriei utilizate combinând A* cu modul de lucru al strategiei DepthFirst."
   ]
  },
  {
   "cell_type": "markdown",
   "metadata": {
    "id": "pUTuR3JbnbGi"
   },
   "source": [
    "## Pseudocod (varianta recursivă)"
   ]
  },
  {
   "cell_type": "markdown",
   "metadata": {
    "id": "nPdAYmNVlYTG"
   },
   "source": [
    "Considerăm nodStart nodul de la care începe căutarea. Considerăm că trebuie să afișăm primele N soluții."
   ]
  },
  {
   "cell_type": "markdown",
   "metadata": {
    "id": "G8hezTRNlfMq"
   },
   "source": [
    "\n",
    "```\n",
    "Se inițializează variabila Limita = f̂(nodStart).\n",
    "Setăm nodul curent ca fiind nodStart\n",
    "\n",
    "Creăm o funcție expandeaza(nodCurent, Limita, eventual alti parametri), care are rolul de a expanda nodul curent și descendenții acestuia numai dacă măsura f̂ a acestora nu depășește limita. Funcția va returna și noua limită de cost pentru expandare care va fi cel mai mic f̂ întâlnit pentru nodurile care nu au putut fi expandate\n",
    "\tConsiderăm variabila nodCurent ca fiind nodul curent de expandat.\n",
    "\tDacă nodul curent are măsura f̂ > Limita atunci:\n",
    "\t\tNu expandăm nodul, ci doar returnăm măsura f̂ a acestuia\n",
    "\tAltfel (dacă nodul curent are măsura f̂ <= Limita):\n",
    "\t\tDacă este nod scop, și drumul până la el nu a mai fost afișat anterior (pentru o Limita mai mică), atunci afișăm drumul soluție (de la nodStart până la el) și decrementăm numărul de soluții de afișat.\n",
    "\t\tExpandăm nodul curent, obținând lista de succesori LS.\n",
    "\t\tDacă există succesori:\n",
    "\t\t\tPentru fiecare succesor din LS:\n",
    "\t\t\t\tApelăm Lim_succesor = expandeaza(succesor, Limita)\n",
    "\t\t\tCalculăm minimul pentru limitele returnate pentru toți succesorii, returnăm acel minim\n",
    "\t\tDacă nu există succesori, returnăm N_MAX, un număr foarte mare (mai mare decât orice f̂ al oricărui nod).\n",
    "\n",
    "\tRepetitiv apelăm funcția Limita=expandeaza(nodStart, Limita), (setând mereu noua limită la valoarea returnată de funcție).\n",
    "\n",
    "\tNe oprim fie în cazul în care Limita ajunge să fie N_MAX (înseamnă că numărul de soluții din graf e mai mic decât numărul de soluții care a fost cerut) fie când s-a afișat numărul de soluții cerute.\n",
    "```"
   ]
  }
 ],
 "metadata": {
  "colab": {
   "provenance": []
  },
  "kernelspec": {
   "display_name": "Python 3 (ipykernel)",
   "language": "python",
   "name": "python3"
  },
  "language_info": {
   "codemirror_mode": {
    "name": "ipython",
    "version": 3
   },
   "file_extension": ".py",
   "mimetype": "text/x-python",
   "name": "python",
   "nbconvert_exporter": "python",
   "pygments_lexer": "ipython3",
   "version": "3.11.4"
  }
 },
 "nbformat": 4,
 "nbformat_minor": 4
}
